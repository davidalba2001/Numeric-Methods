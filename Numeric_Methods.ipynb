{
 "cells": [
  {
   "cell_type": "code",
   "execution_count": 3,
   "metadata": {},
   "outputs": [
    {
     "data": {
      "text/latex": [
       "$\\displaystyle x + \\sqrt[3]{y}$"
      ],
      "text/plain": [
       "x + y**(1/3)"
      ]
     },
     "execution_count": 3,
     "metadata": {},
     "output_type": "execute_result"
    }
   ],
   "source": [
    "from sympy import *\n",
    "from fractions import Fraction\n",
    "import numpy as np\n",
    "\n",
    "# x,y = symbols('x,y')\n",
    "# f = x + y**(1,3)\n",
    "f = lambda x, y: x + y**(1/3)\n",
    "\n",
    "\n",
    "\n",
    "def Method_euler(Xn,Yn,h,hx,fun):\n",
    "    yn1 = Yn + h * fun(Xn,Yn)\n",
    "    return yn1\n",
    "\n",
    "# def Method_eulerMejorado(Xn,Yn,h,hx,fun):\n",
    "#       k1 = fun.evalf(subs = {x:Xn,y:Yn})\n",
    "#       un1 = Yn + h * k1 \n",
    "#       k2 = fun.evalf(subs = {x:Xn+hx,y:un1})\n",
    "#       yn1 = Yn + h * 1/2*(k1 + k2)\n",
    "#       return yn1\n",
    "\n",
    "# def Runge_Kutta(Xn,Yn,h,hx,fun):\n",
    "\n",
    "#     k1 = fun.evalf(subs = {x:Xn,y:Yn})\n",
    "#     k2 = fun.evalf(subs = { x: Xn +(1/2)*h ,y: Yn+(1/2)*h*k1})\n",
    "#     k3 = fun.evalf(subs = { x: Xn +(1/2)*h ,y: Yn+(1/2)*h*k2})\n",
    "#     k4 = fun.evalf(subs = { x: Xn + hx ,y: Yn+ h*k3})\n",
    "#     Yn1 = Yn + h/6 *(k1 + 2*k2 + 2*k3 + k4)\n",
    "#     return Yn1\n",
    "print(\"euler\")\n",
    "print(Numeric_Methods(0,-1,0.1,0.2,f,Method_euler,2))\n",
    "print(\"Runge_Kutta\")\n",
    "#print(Numeric_Methods(0,-1,0.1,0.2,f,Runge_Kutta,2))"
   ]
  },
  {
   "cell_type": "markdown",
   "metadata": {},
   "source": [
    "# Ejercicio 20 pág 122"
   ]
  },
  {
   "cell_type": "markdown",
   "metadata": {},
   "source": []
  }
 ],
 "metadata": {
  "kernelspec": {
   "display_name": "Python 3.9.13 ('base')",
   "language": "python",
   "name": "python3"
  },
  "language_info": {
   "codemirror_mode": {
    "name": "ipython",
    "version": 3
   },
   "file_extension": ".py",
   "mimetype": "text/x-python",
   "name": "python",
   "nbconvert_exporter": "python",
   "pygments_lexer": "ipython3",
   "version": "3.9.13"
  },
  "orig_nbformat": 4,
  "vscode": {
   "interpreter": {
    "hash": "cad891b81e9c730c1cafa9101713ebdb6ff2fa92128eefaf4055afb15b60003c"
   }
  }
 },
 "nbformat": 4,
 "nbformat_minor": 2
}
